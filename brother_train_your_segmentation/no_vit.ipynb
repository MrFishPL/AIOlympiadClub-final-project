{
  "cells": [
    {
      "cell_type": "markdown",
      "metadata": {
        "id": "rID-mdYcUjNl"
      },
      "source": [
        "# Zadanie\n",
        "### Autor: Michał Karp\n",
        "Bracie, wytrenuj sobie segmentację na dostarczonym datasetcie."
      ]
    },
    {
      "cell_type": "markdown",
      "metadata": {
        "id": "CIJYzfbfWXOU"
      },
      "source": [
        "# Ograniczenia"
      ]
    },
    {
      "cell_type": "markdown",
      "metadata": {
        "id": "ory3COo1Wej6"
      },
      "source": [
        "- GPU Colab T4\n",
        "- max 10 min na gpu (bez pobierania danych)\n",
        "- rozwiązanie będzie testowanie w środowisku bez dostępu do internetu\n",
        "- nie możesz trenować na zbiorze walidacyjnym ale możesz go użyć do early stopping i innych tego typu technik"
      ]
    },
    {
      "cell_type": "markdown",
      "metadata": {
        "id": "sU9i6NOQXWDu"
      },
      "source": [
        "# Ocenianie\n",
        "Metryką jest Dice coefficient. Wzór na Dice coefficient to:\n",
        "\n",
        "$$\n",
        "\\text{Dice} = \\frac{2 \\cdot TP}{2 \\cdot TP + FP + FN}\n",
        "$$\n",
        "\n",
        "Gdzie:\n",
        "\n",
        "- TP – True Positives (prawidłowo przewidziane piksele obiektu)\n",
        "\n",
        "- FP – False Positives (piksele tła przewidziane jako obiekt)\n",
        "\n",
        "- FN – False Negatives (piksele obiektu przewidziane jako tło).\n",
        "\n",
        "Jeśli Dice cooficent jest poniżej 0.7, otrzymasz 0 punktów. Jeśli powyżej 0.98, otrzymasz 100 punktów. Pomiędzy tymi wartościami wynik rośnie liniowo.\n",
        "\n",
        "Inne popularne metryki to F1 score, accuracy itp, ale my posłużymy się tą."
      ]
    },
    {
      "cell_type": "markdown",
      "metadata": {
        "id": "2zosu8YbUs_w"
      },
      "source": [
        "# Kod startowy"
      ]
    },
    {
      "cell_type": "code",
      "execution_count": null,
      "metadata": {
        "id": "QYttvSKhUalJ"
      },
      "outputs": [],
      "source": [
        "##### NIE ZMIENIAJ TEJ KOMÓRKI #####\n",
        "\n",
        "import kagglehub\n",
        "import os\n",
        "from pathlib import Path\n",
        "import torch\n",
        "from torch.utils.data import Dataset, DataLoader\n",
        "from torchvision import transforms\n",
        "from PIL import Image\n",
        "import matplotlib.pyplot as plt\n",
        "import torchvision"
      ]
    },
    {
      "cell_type": "code",
      "execution_count": null,
      "metadata": {
        "colab": {
          "base_uri": "https://localhost:8080/"
        },
        "id": "ufiL01K1Ry0Z",
        "outputId": "06aba8c4-46ff-4b82-94b9-f39decb93273"
      },
      "outputs": [],
      "source": [
        "##### NIE ZMIENIAJ TEJ KOMÓRKI #####\n",
        "\n",
        "path = kagglehub.dataset_download(\"hngngn/portrait-segmentation-128x128\")\n",
        "print(\"Path to dataset files:\", path)"
      ]
    },
    {
      "cell_type": "code",
      "execution_count": null,
      "metadata": {
        "colab": {
          "base_uri": "https://localhost:8080/",
          "height": 214
        },
        "id": "gXVwDM25Mzcd",
        "outputId": "79133cfe-ad25-445b-8f98-971eb798d5e2"
      },
      "outputs": [],
      "source": [
        "##### NIE ZMIENIAJ TEJ KOMÓRKI (no ok możesz dostosować batch size) #####\n",
        "\n",
        "BASE_DIR = Path(path)\n",
        "\n",
        "TRAIN_IMG_DIR = BASE_DIR / \"xtrain\"\n",
        "TRAIN_MSK_DIR = BASE_DIR / \"ytrain\"\n",
        "\n",
        "VAL_IMG_DIR = BASE_DIR / \"xtest\"\n",
        "VAL_MSK_DIR = BASE_DIR / \"ytest\"\n",
        "\n",
        "to_tensor = transforms.Compose([\n",
        "    transforms.Resize((128, 128)),\n",
        "    transforms.ToTensor(),\n",
        "])\n",
        "\n",
        "mask_to_tensor = transforms.Compose([\n",
        "    transforms.Resize((128, 128), interpolation=transforms.InterpolationMode.NEAREST_EXACT),\n",
        "    transforms.ToTensor(),\n",
        "])\n",
        "\n",
        "class PortraitSegDataset(Dataset):\n",
        "    def __init__(self, img_dir, msk_dir, img_transform=None, msk_transform=None):\n",
        "        self.img_dir = Path(img_dir)\n",
        "        self.msk_dir = Path(msk_dir)\n",
        "        self.img_transform = img_transform\n",
        "        self.msk_transform = msk_transform\n",
        "\n",
        "        self.names = sorted({p.name for p in self.img_dir.iterdir() if p.suffix.lower() == \".png\"})\n",
        "\n",
        "    def __len__(self):\n",
        "        return len(self.names)\n",
        "\n",
        "    def __getitem__(self, idx):\n",
        "        name = self.names[idx]\n",
        "        img = Image.open(self.img_dir / name).convert(\"RGB\")\n",
        "        msk = Image.open(self.msk_dir / name).convert(\"L\")\n",
        "\n",
        "        if self.img_transform:\n",
        "            img = self.img_transform(img)\n",
        "\n",
        "        if self.msk_transform:\n",
        "            msk = self.msk_transform(msk)\n",
        "\n",
        "        return img, msk\n",
        "\n",
        "train_ds = PortraitSegDataset(TRAIN_IMG_DIR, TRAIN_MSK_DIR, img_transform=to_tensor, msk_transform=mask_to_tensor)\n",
        "val_ds = PortraitSegDataset(VAL_IMG_DIR, VAL_MSK_DIR, img_transform=to_tensor, msk_transform=mask_to_tensor)\n",
        "\n",
        "train_loader = DataLoader(train_ds, batch_size=32, shuffle=True, drop_last=True)\n",
        "val_loader = DataLoader(val_ds, batch_size=32, shuffle=False)\n",
        "\n",
        "print(f\"Train set: {len(train_ds)} przykładów  •  Val set: {len(val_ds)} przykładów\")\n",
        "\n",
        "fig, axes = plt.subplots(1, 5, figsize=(15, 3))\n",
        "\n",
        "for i in range(5):\n",
        "    img, msk = train_ds[i]\n",
        "    ax = axes[i]\n",
        "    ax.imshow(img.permute(1, 2, 0))\n",
        "    ax.imshow(msk.squeeze(), alpha=0.4)\n",
        "    ax.axis(\"off\")\n",
        "\n",
        "plt.tight_layout()\n",
        "plt.show()"
      ]
    },
    {
      "cell_type": "markdown",
      "metadata": {
        "id": "HnEg6bD5YS1P"
      },
      "source": [
        "# Rozwiązanie\n",
        "W tej sekcji wytrenuj model i umieść rozwiązanie."
      ]
    },
    {
      "cell_type": "code",
      "execution_count": null,
      "metadata": {
        "colab": {
          "base_uri": "https://localhost:8080/",
          "height": 1000
        },
        "id": "6wriBuPaN9fo",
        "outputId": "ab218427-4b70-4a11-8230-bc60fee142e6"
      },
      "outputs": [],
      "source": [
        "# W tej sekcji wytrenuj swój model\n",
        "\n",
        "model = ..."
      ]
    },
    {
      "cell_type": "code",
      "execution_count": null,
      "metadata": {
        "id": "tKekHBg7Zree"
      },
      "outputs": [],
      "source": [
        "def segment_image(valid_dataset: list):\n",
        "  return [torch.zeros((1, 128, 128), dtype=torch.bool) for _ in range(len(valid_dataset))]"
      ]
    },
    {
      "cell_type": "markdown",
      "metadata": {
        "id": "8F8O6W5BZtws"
      },
      "source": [
        "# Wynik"
      ]
    },
    {
      "cell_type": "code",
      "execution_count": null,
      "metadata": {
        "id": "cqin0av4vLYI"
      },
      "outputs": [],
      "source": [
        "def dice_coefficient(targets, predictions):\n",
        "    dice_scores = []\n",
        "    for target, pred in zip(targets, predictions):\n",
        "        intersection = (target & pred).sum().float()\n",
        "        union = target.sum().float() + pred.sum().float()\n",
        "        dice = (2. * intersection) / (union + 1e-8)\n",
        "        dice_scores.append(dice)\n",
        "\n",
        "    return torch.mean(torch.stack(dice_scores)).item()"
      ]
    },
    {
      "cell_type": "code",
      "execution_count": null,
      "metadata": {
        "id": "uLGE-beG7IgB"
      },
      "outputs": [],
      "source": [
        "def scale_dice(dice):\n",
        "    if dice < 0.7:\n",
        "        return 0.0\n",
        "    elif dice > 0.98:\n",
        "        return 1.0\n",
        "    else:\n",
        "        return 100 * (dice - 0.7) / (0.98 - 0.7)"
      ]
    },
    {
      "cell_type": "code",
      "execution_count": null,
      "metadata": {
        "colab": {
          "base_uri": "https://localhost:8080/"
        },
        "id": "4E7Kmt5kv-ck",
        "outputId": "dda6efd4-3f7a-402d-8c5f-09c6162d7dc8"
      },
      "outputs": [],
      "source": [
        "result = dice_coefficient(\n",
        "    list(map(lambda X: X[1].bool(), val_ds)),\n",
        "    segment_image(list(map(lambda X: X[0], val_ds)))\n",
        ")\n",
        "\n",
        "print(f\"Dice cooficent:\", result)\n",
        "print(f\"Score:\", scale_dice(result))"
      ]
    }
  ],
  "metadata": {
    "accelerator": "GPU",
    "colab": {
      "gpuType": "T4",
      "provenance": []
    },
    "kernelspec": {
      "display_name": "Python 3",
      "name": "python3"
    },
    "language_info": {
      "name": "python"
    }
  },
  "nbformat": 4,
  "nbformat_minor": 0
}
